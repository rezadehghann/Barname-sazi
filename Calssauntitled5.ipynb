class a:
      def t(self):
          Print('a')
Class b(a)
      def t (self):
             Print('b')
 c=b()
 c.t()
