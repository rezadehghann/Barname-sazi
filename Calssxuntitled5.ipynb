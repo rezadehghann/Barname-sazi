class x:
     def test(self,k=10,p=10):
       if(k!=10 and p!=10):
        self.k=k
        self.p=p
        return k*p
       elif(k is not 10 and p==10):
        return 3.14*k*k
       else :
        return 100
